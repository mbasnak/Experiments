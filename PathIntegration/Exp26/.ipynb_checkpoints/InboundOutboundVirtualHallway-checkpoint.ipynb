{
 "cells": [
  {
   "cell_type": "markdown",
   "metadata": {},
   "source": [
    "Next is a summary of the new version of the inbound/outbound hallway. This correspond to experiment number 26, and the files for it will be inside Exp26 folder of the 'PathIntegration' experiments."
   ]
  },
  {
   "cell_type": "markdown",
   "metadata": {},
   "source": [
    "As for the previous version of the hallway, I am using the codes inside the 'inbound_outbound_hallway' folder in the desktop of the computer in the behavior cave (which I will also add inside this folder)."
   ]
  },
  {
   "cell_type": "markdown",
   "metadata": {},
   "source": [
    "One of the novelties in this version compared to previous versions is that I will be triggering a camera to measure proboscis extension. I am using the blackfly camera on the side of my fly to measure this, and I'm triggering it as defined in the corresponding notebook on Evernote. I'm currently acquiring at 10 Hz, but that might be tweaked moving forward."
   ]
  },
  {
   "cell_type": "markdown",
   "metadata": {},
   "source": [
    "The additional change to this version of the hallway compared to the previous version is that I am adding a couple of 360 loops in some of the left trials: instances in which during the open-loop bout, the stimulus will rotate 360 deg instead of 180. The fly shouldn't expect to receive a reward in this case in the second part of these trips."
   ]
  },
  {
   "cell_type": "markdown",
   "metadata": {},
   "source": [
    "I am using pattern #39, setting the max during of the trial to 3600 sec, the gain to 1 and the trip number to 50."
   ]
  }
 ],
 "metadata": {
  "kernelspec": {
   "display_name": "Python 3",
   "language": "python",
   "name": "python3"
  },
  "language_info": {
   "codemirror_mode": {
    "name": "ipython",
    "version": 3
   },
   "file_extension": ".py",
   "mimetype": "text/x-python",
   "name": "python",
   "nbconvert_exporter": "python",
   "pygments_lexer": "ipython3",
   "version": "3.7.8"
  }
 },
 "nbformat": 4,
 "nbformat_minor": 4
}
