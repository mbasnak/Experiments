{
 "cells": [
  {
   "cell_type": "markdown",
   "metadata": {},
   "source": [
    "I will use this code to reduce the size of the images, and compress them before DeepLabCut analysis."
   ]
  },
  {
   "cell_type": "code",
   "execution_count": 1,
   "metadata": {},
   "outputs": [],
   "source": [
    "# Import modules that will be used\n",
    "\n",
    "import os\n",
    "import cv2 #openCV for image processing\n",
    "import matplotlib.pyplot as plt\n",
    "import numpy as np\n",
    "import glob\n",
    "from tkinter import filedialog\n",
    "from tkinter import *"
   ]
  },
  {
   "cell_type": "code",
   "execution_count": 2,
   "metadata": {},
   "outputs": [],
   "source": [
    "# Define main directory\n",
    "\n",
    "os.chdir(\"..\")\n",
    "mainDir = os.getcwd()"
   ]
  },
  {
   "cell_type": "code",
   "execution_count": 3,
   "metadata": {},
   "outputs": [],
   "source": [
    "# Import 1 test image in grayscale and visualize it\n",
    "\n",
    "# img = cv2.imread(mainDir + '\\\\test\\_2019-12-11-134517-0005.tif',0)\n",
    "# cv2.imshow('image',img)\n",
    "# cv2.waitKey(0)\n",
    "# cv2.destroyAllWindows() #this command closes the image if I press a key"
   ]
  },
  {
   "cell_type": "code",
   "execution_count": 4,
   "metadata": {},
   "outputs": [],
   "source": [
    "# Resize the image and show\n",
    "\n",
    "# height, width = img.shape\n",
    "# imgScale = 0.4\n",
    "# newX,newY = img.shape[1]*imgScale, img.shape[0]*imgScale\n",
    "# newimg = cv2.resize(img,(int(newX),int(newY)))\n",
    "# cv2.imshow(\"Show by CV2\",newimg)\n",
    "# cv2.waitKey(0)\n",
    "# cv2.destroyAllWindows()"
   ]
  },
  {
   "cell_type": "code",
   "execution_count": 5,
   "metadata": {},
   "outputs": [],
   "source": [
    "# Compress the image and save as PNG\n",
    "\n",
    "# cv2.imwrite('compressed_img1.png', newimg,  [cv2.IMWRITE_PNG_COMPRESSION, 9])"
   ]
  },
  {
   "cell_type": "code",
   "execution_count": 6,
   "metadata": {},
   "outputs": [],
   "source": [
    "# Now let's do this for 10 images in a test folder\n",
    "\n",
    "#Get the files in the 'test' folder\n",
    "# os.chdir(mainDir + '\\\\test')\n",
    "# files = os.listdir()\n",
    "\n",
    "# #For each file\n",
    "# for file in range(len(files)):\n",
    "#     if 'tif' in files[file]:\n",
    "#         #read the image\n",
    "#         img = cv2.imread(mainDir + '\\\\test\\\\' + files[file],0)\n",
    "#         #resize\n",
    "#         height, width = img.shape\n",
    "#         imgScale = 0.4\n",
    "#         newX,newY = img.shape[1]*imgScale, img.shape[0]*imgScale\n",
    "#         newimg = cv2.resize(img,(int(newX),int(newY)))\n",
    "#         #compress and save\n",
    "#         cv2.imwrite('compressed\\\\compressed_img' + str(file) + '.png', newimg,  [cv2.IMWRITE_PNG_COMPRESSION, 9])\n"
   ]
  },
  {
   "cell_type": "code",
   "execution_count": 7,
   "metadata": {},
   "outputs": [],
   "source": [
    "# Let's generate a video with those images\n",
    "\n",
    "# img_array = []\n",
    "# for filename in glob.glob(mainDir + '\\\\test\\\\compressed\\\\*.png'):\n",
    "#     img = cv2.imread(filename)\n",
    "#     height, width, layers = img.shape\n",
    "#     size = (width,height)\n",
    "#     img_array.append(img)\n",
    " \n",
    " \n",
    "# out = cv2.VideoWriter('compressed\\\\testvideo.mp4',cv2.VideoWriter_fourcc(*'mp4v'), 30, size)\n",
    " \n",
    "# for i in range(len(img_array)):\n",
    "#     out.write(img_array[i])\n",
    "# out.release()"
   ]
  },
  {
   "cell_type": "code",
   "execution_count": 8,
   "metadata": {},
   "outputs": [],
   "source": [
    "# Now let's create functions to do this\n",
    "\n",
    "def resize_image(folder):\n",
    "    os.chdir(folder)\n",
    "    files = os.listdir()   \n",
    "    for file in range(len(files)):\n",
    "        if 'tif' in files[file]:\n",
    "            img = cv2.imread(files[file],0)\n",
    "            height, width = img.shape\n",
    "            imgScale = 0.4\n",
    "            newX,newY = img.shape[1]*imgScale, img.shape[0]*imgScale\n",
    "            newimg = cv2.resize(img,(int(newX),int(newY)))\n",
    "            if not os.path.exists('compressed'):\n",
    "                os.makedirs('compressed')\n",
    "            cv2.imwrite('compressed\\\\' + files[file][:-4] + '.png', newimg,  [cv2.IMWRITE_PNG_COMPRESSION, 9])  \n",
    "#+ str(file).zfill(5) \n",
    "            \n",
    "def compress_video(folder):\n",
    "    img_array = []\n",
    "    file_list = glob.glob(folder + '\\\\compressed\\\\*.png')\n",
    "    #grab last 4 characters of the file name:\n",
    "    def last_4chars(x):\n",
    "        return(x[-8:])\n",
    "\n",
    "    sorted_file_list = sorted(file_list, key = last_4chars)  \n",
    "    \n",
    "    for filename in sorted_file_list:\n",
    "        img = cv2.imread(filename)\n",
    "        height, width, layers = img.shape\n",
    "        size = (width,height)\n",
    "        img_array.append(img)\n",
    "  \n",
    "    out = cv2.VideoWriter(folder + '\\\\compiled_video.mp4',cv2.VideoWriter_fourcc(*'mp4v'), 10, size)\n",
    " \n",
    "    for i in range(len(img_array)):\n",
    "        out.write(img_array[i])\n",
    "    out.release()  "
   ]
  },
  {
   "cell_type": "code",
   "execution_count": 29,
   "metadata": {},
   "outputs": [],
   "source": [
    "#function to make a video from the tif images without compression\n",
    "\n",
    "def make_video(folder):\n",
    "    img_array = []\n",
    "    os.chdir(folder)\n",
    "    file_list = os.listdir()  \n",
    "    \n",
    "    #grab last 4 characters of the file name:\n",
    "    def last_4chars(x):\n",
    "        return(x[-8:])\n",
    "    sorted_file_list = sorted(file_list, key = last_4chars)  \n",
    "    \n",
    "    for filename in sorted_file_list:\n",
    "        if filename.endswith(\".tif\"):\n",
    "            img = cv2.imread(filename)\n",
    "            height, width, layers = img.shape\n",
    "            size = (width,height)\n",
    "            img_array.append(img)\n",
    "  \n",
    "    out = cv2.VideoWriter(folder + '\\\\compiled_video_non_compressed.mp4',cv2.VideoWriter_fourcc(*'mp4v'), 10, size)\n",
    " \n",
    "    for i in range(len(img_array)):\n",
    "        out.write(img_array[i])\n",
    "    out.release()  "
   ]
  },
  {
   "cell_type": "code",
   "execution_count": null,
   "metadata": {},
   "outputs": [],
   "source": [
    "#Function to make .avi videos from the tif images without compression.\n",
    "\n",
    "def make_avi_video(folder):\n",
    "    img_array = []\n",
    "    os.chdir(folder)\n",
    "    file_list = os.listdir()  \n",
    "    \n",
    "    #grab last 4 characters of the file name:\n",
    "    def last_4chars(x):\n",
    "        return(x[-8:])\n",
    "    sorted_file_list = sorted(file_list, key = last_4chars)  \n",
    "    \n",
    "    for filename in sorted_file_list:\n",
    "        if filename.endswith(\".tif\"):\n",
    "            img = cv2.imread(filename)\n",
    "            height, width, layers = img.shape\n",
    "            size = (width,height)\n",
    "            img_array.append(img)\n",
    "  \n",
    "    out = cv2.VideoWriter(folder + '\\\\compiled_video_non_compressed.avi',cv2.VideoWriter_fourcc(*'mp4v'), 10, size)\n",
    " \n",
    "    for i in range(len(img_array)):\n",
    "        out.write(img_array[i])\n",
    "    out.release()  "
   ]
  },
  {
   "cell_type": "code",
   "execution_count": 31,
   "metadata": {},
   "outputs": [],
   "source": [
    "#Select image directory\n",
    "\n",
    "folder = filedialog.askdirectory()"
   ]
  },
  {
   "cell_type": "code",
   "execution_count": null,
   "metadata": {},
   "outputs": [],
   "source": [
    "#Run the function to make un-compressed video\n",
    "\n",
    "make_video(folder)"
   ]
  },
  {
   "cell_type": "code",
   "execution_count": 50,
   "metadata": {},
   "outputs": [],
   "source": [
    "#Let's run the function in the different folders\n",
    "\n",
    "resize_image(folder)\n",
    "compress_video(folder)"
   ]
  },
  {
   "cell_type": "code",
   "execution_count": 19,
   "metadata": {},
   "outputs": [
    {
     "name": "stdout",
     "output_type": "stream",
     "text": [
      "Error opening video stream or file\n"
     ]
    }
   ],
   "source": [
    "#To watch video frame by frame\n",
    "\n",
    "#cap = cv2.VideoCapture(mainDir + '\\\\test1\\\\compiled_video.mp4')\n",
    "#if (cap.isOpened()== False): \n",
    " #   print(\"Error opening video stream or file\")\n",
    "\n",
    "#while(cap.isOpened()):\n",
    "\n",
    " #   ret, frame = cap.read()\n",
    "  #  if ret == True:\n",
    "   #     cv2.imshow('Frame',frame)\n",
    "    #    input()\n",
    "\n",
    "     #   if cv2.waitKey(25) & 0xFF == ord('q'):\n",
    "      #      break\n",
    "\n",
    "    #else: \n",
    "     #   break\n",
    "\n",
    "#cap.release()\n",
    "#cv2.destroyAllWindows()\n"
   ]
  },
  {
   "cell_type": "code",
   "execution_count": null,
   "metadata": {},
   "outputs": [],
   "source": []
  }
 ],
 "metadata": {
  "kernelspec": {
   "display_name": "Python 3",
   "language": "python",
   "name": "python3"
  },
  "language_info": {
   "codemirror_mode": {
    "name": "ipython",
    "version": 3
   },
   "file_extension": ".py",
   "mimetype": "text/x-python",
   "name": "python",
   "nbconvert_exporter": "python",
   "pygments_lexer": "ipython3",
   "version": "3.7.6"
  }
 },
 "nbformat": 4,
 "nbformat_minor": 4
}
